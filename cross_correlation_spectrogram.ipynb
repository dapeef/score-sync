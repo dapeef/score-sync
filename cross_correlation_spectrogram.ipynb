{
 "cells": [
  {
   "cell_type": "code",
   "execution_count": 117,
   "metadata": {},
   "outputs": [],
   "source": [
    "# Imports\n",
    "\n",
    "import numpy as np\n",
    "import scipy\n",
    "import matplotlib.pyplot as plt\n",
    "import utils\n",
    "\n",
    "%matplotlib tk\n",
    "# %matplotlib inline\n",
    "\n",
    "plt.close('all')"
   ]
  },
  {
   "cell_type": "code",
   "execution_count": 118,
   "metadata": {},
   "outputs": [],
   "source": [
    "# Top hat + triangle with padding\n",
    "\n",
    "sampling_freq : int = 1\n",
    "sound1 : np.ndarray = np.concat(([0]*100, [1]*100, [0]*100)) # top hat\n",
    "sound2 : np.ndarray = np.concat(([0]*100, np.arange(1, 101)/100, [0]*100)) # triangle"
   ]
  },
  {
   "cell_type": "code",
   "execution_count": 119,
   "metadata": {},
   "outputs": [],
   "source": [
    "# Top hat + triangle withOUT padding\n",
    "\n",
    "sampling_freq : int = 1\n",
    "sound1 : np.ndarray = np.ones(100) # top hat\n",
    "sound2 : np.ndarray = np.arange(1, 101)/100 # triangle"
   ]
  },
  {
   "cell_type": "code",
   "execution_count": 120,
   "metadata": {},
   "outputs": [],
   "source": [
    "# Load audio files\n",
    "\n",
    "sampling_freq, sound1 = scipy.io.wavfile.read(\"audio/Piano C2.wav\")\n",
    "sampling_freq, sound2 = scipy.io.wavfile.read(\"audio/Piano C2 - 2.wav\")"
   ]
  },
  {
   "cell_type": "code",
   "execution_count": 121,
   "metadata": {},
   "outputs": [],
   "source": [
    "# Load audio files\n",
    "\n",
    "sampling_freq, sound1 = utils.load_sound_mono(\"samples/C#2.wav\")\n",
    "sampling_freq, sound2 = utils.load_sound_mono(\"samples/C2.wav\")"
   ]
  },
  {
   "cell_type": "code",
   "execution_count": 122,
   "metadata": {},
   "outputs": [],
   "source": [
    "# Load audio files\n",
    "\n",
    "sampling_freq, sound1 = utils.load_sound_mono(\"audio/C4 major scale.wav\")\n",
    "sampling_freq, sound2 = utils.load_sound_mono(\"samples/G4.wav\")"
   ]
  },
  {
   "cell_type": "code",
   "execution_count": 123,
   "metadata": {},
   "outputs": [],
   "source": [
    "# Plot sounds\n",
    "\n",
    "utils.plot_sounds(sound1, sound2, sampling_freq=sampling_freq)"
   ]
  },
  {
   "cell_type": "code",
   "execution_count": 124,
   "metadata": {},
   "outputs": [],
   "source": [
    "# Compute spectrograms for sounds\n",
    "\n",
    "time_resolution : float = .1 # seconds\n",
    "freq_resolution : float = 1 # Hz\n",
    "\n",
    "sample_resolution : int = int(time_resolution * sampling_freq)\n",
    "freq_bins : float = sampling_freq / freq_resolution / 2\n",
    "nperseg : int = int(2 ** (np.round(np.log2(freq_bins)) + 1)) # Find nearest power of 2 and multiply by 2\n",
    "noverlap : int = nperseg - sample_resolution\n",
    "\n",
    "f1, t1, Sxx1 = scipy.signal.spectrogram(sound1, nperseg=nperseg, noverlap=noverlap, fs=sampling_freq)\n",
    "f2, t2, Sxx2 = scipy.signal.spectrogram(sound2, nperseg=nperseg, noverlap=noverlap, fs=sampling_freq)"
   ]
  },
  {
   "cell_type": "code",
   "execution_count": 125,
   "metadata": {},
   "outputs": [],
   "source": [
    "# # Draw spectrograms\n",
    "\n",
    "# plt.figure()\n",
    "# plt.pcolormesh(t1, f1, 10*np.log10(Sxx1))\n",
    "# plt.ylabel('Frequency (Hz)')\n",
    "# plt.xlabel('Time (sec)')\n",
    "# plt.show()\n",
    "\n",
    "# plt.figure()\n",
    "# plt.pcolormesh(t2, f2, 10*np.log10(Sxx2))\n",
    "# plt.ylabel('Frequency (Hz)')\n",
    "# plt.xlabel('Time (sec)')\n",
    "# plt.show()"
   ]
  },
  {
   "cell_type": "code",
   "execution_count": 126,
   "metadata": {},
   "outputs": [],
   "source": [
    "# Compute cross correlation\n",
    "\n",
    "# Zero pad the spectrograms\n",
    "Sxx1_padded = np.pad(Sxx1, pad_width=((0,0), (0, Sxx2.shape[1] - 1)))\n",
    "Sxx2_padded = np.pad(Sxx2, pad_width=((0,0), (0, Sxx1.shape[1] - 1)))\n",
    "\n",
    "# Take FFTs\n",
    "fft1 = scipy.fft.rfft(Sxx1_padded, axis=1)\n",
    "fft2 = scipy.fft.rfft(Sxx2_padded, axis=1)\n",
    "\n",
    "# Multiply together in frequency domain\n",
    "fft_product = np.multiply(fft1, np.conjugate(fft2))\n",
    "\n",
    "# Take IFFT\n",
    "cross_correlation_spectrum = scipy.fft.irfft(fft_product, axis=1)\n",
    "\n",
    "# Flatten vertically\n",
    "cross_correlation = np.sum(cross_correlation_spectrum, axis=0)\n",
    "\n",
    "# Get scale factor\n",
    "spectrogram_sampling_freq = sampling_freq / (sound1.shape[0] + sound2.shape[0] - 1) * (Sxx1.shape[1] + Sxx2.shape[1] - 1)"
   ]
  },
  {
   "cell_type": "code",
   "execution_count": 127,
   "metadata": {},
   "outputs": [],
   "source": [
    "# # Plot spectrogram of cross correlation\n",
    "\n",
    "# plt.figure()\n",
    "# plt.pcolormesh(10*np.log10(cross_correlation_spectrum))\n",
    "# plt.ylabel('Frequency-ish')\n",
    "# plt.xlabel('Time-ish')\n",
    "# plt.show()"
   ]
  },
  {
   "cell_type": "code",
   "execution_count": 128,
   "metadata": {},
   "outputs": [],
   "source": [
    "# Plot cross correlation\n",
    "\n",
    "time_window = cross_correlation.shape[0] / spectrogram_sampling_freq\n",
    "\n",
    "cross_correlation_shifted : np.ndarray = np.concat((cross_correlation[cross_correlation.shape[0]//2:], cross_correlation[:cross_correlation.shape[0]//2]))\n",
    "\n",
    "plt.figure()\n",
    "plt.plot(np.arange(-time_window/2, time_window/2, 1/spectrogram_sampling_freq), cross_correlation_shifted)\n",
    "plt.xlabel(\"Time delay (s)\")\n",
    "plt.ylabel(\"Cross correlation\")\n",
    "plt.show()"
   ]
  },
  {
   "cell_type": "code",
   "execution_count": 129,
   "metadata": {},
   "outputs": [
    {
     "name": "stdout",
     "output_type": "stream",
     "text": [
      "Audio delay: -2.759150705199337s\n"
     ]
    }
   ],
   "source": [
    "# Get max point\n",
    "\n",
    "peak = np.argmax(cross_correlation)\n",
    "peak = peak if peak < cross_correlation.shape[0] / 2 else peak - cross_correlation.shape[0]\n",
    "\n",
    "delay: float = - peak / spectrogram_sampling_freq\n",
    "\n",
    "print(f\"Audio delay: {delay}s\")"
   ]
  },
  {
   "cell_type": "code",
   "execution_count": 130,
   "metadata": {},
   "outputs": [],
   "source": [
    "# Plot shifted sounds\n",
    "\n",
    "utils.plot_sounds(sound1, sound2, sampling_freq=sampling_freq, delay=-delay)"
   ]
  }
 ],
 "metadata": {
  "kernelspec": {
   "display_name": ".venv",
   "language": "python",
   "name": "python3"
  },
  "language_info": {
   "codemirror_mode": {
    "name": "ipython",
    "version": 3
   },
   "file_extension": ".py",
   "mimetype": "text/x-python",
   "name": "python",
   "nbconvert_exporter": "python",
   "pygments_lexer": "ipython3",
   "version": "3.12.4"
  }
 },
 "nbformat": 4,
 "nbformat_minor": 2
}
