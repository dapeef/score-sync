{
 "cells": [
  {
   "cell_type": "code",
   "execution_count": 9,
   "metadata": {},
   "outputs": [],
   "source": [
    "from Instrument.Instrument import Instrument\n",
    "\n",
    "piano = Instrument(bit_rate = 44100)\n",
    "piano.record_key(52, duration=1)  # C5\n",
    "piano.record_chord([(52, 56, 61)], duration=1)  # C5 E5 A5\n",
    "\n",
    "piano.play()\n",
    "piano.close()   # Terminates PyAudio"
   ]
  }
 ],
 "metadata": {
  "kernelspec": {
   "display_name": ".venv",
   "language": "python",
   "name": "python3"
  },
  "language_info": {
   "codemirror_mode": {
    "name": "ipython",
    "version": 3
   },
   "file_extension": ".py",
   "mimetype": "text/x-python",
   "name": "python",
   "nbconvert_exporter": "python",
   "pygments_lexer": "ipython3",
   "version": "3.12.4"
  }
 },
 "nbformat": 4,
 "nbformat_minor": 2
}
